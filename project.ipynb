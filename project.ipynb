{
 "cells": [
  {
   "cell_type": "markdown",
   "metadata": {},
   "source": [
    "## Introduction to Data Science\n",
    "\n",
    "## The CRISP-DM approach to Data Science Tasks"
   ]
  },
  {
   "cell_type": "markdown",
   "metadata": {},
   "source": [
    "_________________________"
   ]
  },
  {
   "cell_type": "markdown",
   "metadata": {
    "tags": []
   },
   "source": [
    "## I. Business Understanding\n",
    "                    \n",
    "#### The Business Understanding phase focuses on understanding the objectives and requirements of the project.  \n",
    "+ Determine business objectives:\n",
    "\n",
    "    ```Modelar o futebol brasileiro, predizendo resultados (vitória, derrota e empate) e tentando prever o campeão brasileiro.```\n",
    "\n",
    "\n",
    "+ Assess situation:\n",
    "\n",
    "    ```Muitos dados disponíveis (tanto no site da CBF quanto em sites esportivos) e grande público em casas de apostas.```\n",
    "    \n",
    "\n",
    "+ Determine data mining goals:\n",
    "\n",
    "    ```Coletar os dados (mandante e visitante), bem como o placar e a data do jogo.```\n",
    "    \n",
    "\n",
    "+ Produce project plan:\n",
    "\n",
    "    ```A ideia é utilizar dados de jogos entre 2013 e 2020 para realizar a modelagem. Um método para a validação e teste é utilizar as primeiras seis temporadas para o treinamento do modelo e as duas últimas para teste de eficiência. Possivelmente utilizar dados das primeiras rodadas do campeonato em questão para modelar mais precisamente os resultados, pois os times mudam muito de um ano para o outro. Em virtude dessa grande rotatividade de jogadores, jogos mais recentes terão um peso maior na avaliação.```"
   ]
  },
  {
   "cell_type": "code",
   "execution_count": null,
   "metadata": {},
   "outputs": [],
   "source": []
  },
  {
   "cell_type": "markdown",
   "metadata": {
    "tags": []
   },
   "source": [
    "+ business objectives:\n",
    "\n",
    "o projeto objetiva a criação de um modelo de predição de resultados gerais dos jogos do futebol brasileiro em vitória, derrota ou empate, e a inferência do campeão brasileiro utilizando o modelo implementado   utilizando dados disponíveis no site da CBF e em outros sites esportivos das partidas dos jogos entre 2013 e 2020 da série A que foram coletados via scraping.\n",
    "\n",
    "\n",
    "+ Assess situation:\n",
    "\n",
    "    ```Muitos dados disponíveis (tanto no site da CBF quanto em sites esportivos) e grande público em casas de apostas.```\n",
    "\n",
    "...\n",
    "\n",
    "\n",
    "+ data mining goals:\n",
    "\n",
    "    ```Coletar os dados (mandante e visitante), bem como o placar e a data do jogo.```\n",
    "    \n",
    "(quais dados vamos usar exatamente, quais as fontes)\n",
    "\n",
    "Utilizaremos as primeiras seis temporadas para o treinamento do modelo e as duas últimas para validação dele via eficiência. Possivelmente utilizar dados das primeiras rodadas do campeonato em questão para modelar mais precisamente os resultados, pois os times mudam muito de um ano para o outro. Em virtude dessa grande rotatividade de jogadores, jogos mais recentes terão um peso maior na avaliação. \n",
    "\n",
    "+ Plano do Projeto:\n",
    "    \n",
    "    * Coletar dados do futebol brasileiro via scraping\n",
    "    * Explorar e verificar a qualidade dos dados coletados\n",
    "    * Selecionar, limpar e reformatar os dados que alimentarão o modelo\n",
    "    * Construir e treinar o modelo de previsão de partidas\n",
    "    * Validar e analisar as previsões do modelo\n",
    "    * Inferir o campeão brasileiro com o modelo implementado\n",
    "    * Revisar e fazer o deploy do projeto\n",
    "    "
   ]
  },
  {
   "cell_type": "code",
   "execution_count": null,
   "metadata": {},
   "outputs": [],
   "source": []
  },
  {
   "cell_type": "markdown",
   "metadata": {},
   "source": [
    "## II. Data Understanding  \n",
    "\n",
    "+ Collect initial data:  \n",
    "+ Describe data:  \n",
    "+ Explore data:  \n",
    "+ Verify data quality:  "
   ]
  },
  {
   "cell_type": "code",
   "execution_count": null,
   "metadata": {},
   "outputs": [],
   "source": []
  },
  {
   "cell_type": "markdown",
   "metadata": {},
   "source": [
    "## III. Data Preparation\n",
    "\n",
    "+ Select data:   \n",
    "+ Clean data:   \n",
    "+ Construct data/transform data/feature engineering:   \n",
    "+ Integrate data:   \n",
    "+ (Re) Format data:   "
   ]
  },
  {
   "cell_type": "code",
   "execution_count": null,
   "metadata": {},
   "outputs": [],
   "source": []
  },
  {
   "cell_type": "markdown",
   "metadata": {},
   "source": [
    "## IV. Modeling\n",
    "\n",
    "+ Select modeling techniques: \n",
    "+ Generate test design: \n",
    "+ Build model: \n",
    "+ Assess model:  "
   ]
  },
  {
   "cell_type": "code",
   "execution_count": null,
   "metadata": {},
   "outputs": [],
   "source": []
  },
  {
   "cell_type": "markdown",
   "metadata": {},
   "source": [
    "## V. Evaluation                    \n",
    "\n",
    "+ Evaluate results: \n",
    "+ Review process: \n",
    "+ Determine next steps: "
   ]
  },
  {
   "cell_type": "code",
   "execution_count": null,
   "metadata": {},
   "outputs": [],
   "source": []
  },
  {
   "cell_type": "markdown",
   "metadata": {},
   "source": [
    "## VI. Deployment\n",
    "\n",
    "+ Plan deployment: \n",
    "+ Plan monitoring and maintenance: \n",
    "+ Produce final report: \n",
    "+ Review project: "
   ]
  },
  {
   "cell_type": "code",
   "execution_count": null,
   "metadata": {},
   "outputs": [],
   "source": []
  }
 ],
 "metadata": {
  "kernelspec": {
   "display_name": "Python 3 (ipykernel)",
   "language": "python",
   "name": "python3"
  },
  "language_info": {
   "codemirror_mode": {
    "name": "ipython",
    "version": 3
   },
   "file_extension": ".py",
   "mimetype": "text/x-python",
   "name": "python",
   "nbconvert_exporter": "python",
   "pygments_lexer": "ipython3",
   "version": "3.8.10"
  }
 },
 "nbformat": 4,
 "nbformat_minor": 4
}
