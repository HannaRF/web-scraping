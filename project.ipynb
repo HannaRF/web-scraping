{
 "cells": [
  {
   "cell_type": "markdown",
   "metadata": {},
   "source": [
    "# Aquisição e Manipulação de Dados\n",
    "\n",
    "## Modelagem do Futebol Brasileiro\n",
    "\n",
    "### Autores: Hanna Rodrigues e Igor Michels"
   ]
  },
  {
   "cell_type": "markdown",
   "metadata": {},
   "source": [
    "_________________________"
   ]
  },
  {
   "cell_type": "markdown",
   "metadata": {},
   "source": [
    "### Import's"
   ]
  },
  {
   "cell_type": "code",
   "execution_count": 1,
   "metadata": {},
   "outputs": [],
   "source": [
    "from functions import *\n",
    "from glob import glob"
   ]
  },
  {
   "cell_type": "markdown",
   "metadata": {},
   "source": [
    "_________________________"
   ]
  },
  {
   "cell_type": "markdown",
   "metadata": {
    "tags": []
   },
   "source": [
    "### Objetivos do negócio:\n",
    "\n",
    "O projeto objetiva a criação de um modelo de predição de resultados gerais dos jogos do futebol brasileiro em vitória, derrota ou empate, bem como a inferência do campeão brasileiro utilizando um modelo que será implementado utilizando dados disponíveis sobre jogos da Série A do Brasileirão que podem ser encontrados no site da CBF e em outros sites esportivos.\n",
    "\n",
    "\n",
    "### Avaliação da situação atual:\n",
    "\n",
    "Atualmente casas de apostas possuem bons modelos preditivos para a elaboração das odds, enquanto modelos mais simples são utilizados, seja em pesquisa ou seja com objetivos didáticos. Além disso, existem muitos dados disponíveis acerca do tema, uma vez que o futebol é o esporte mais popular do planeta, ou seja, pode-se encontrar os mais variados dados facilmente.\n",
    "\n",
    "\n",
    "### Objetivo da mineração de dados:\n",
    "\n",
    "A coleta de dados objetiva, inicialmente, os dados mais gerais de uma partida:\n",
    "\n",
    " + mandante;\n",
    " + visitante;\n",
    " + placar e;\n",
    " + data.\n",
    "\n",
    "Tais dados podem ser obtidos diretamente do site da CBF, como realizado [nesse projeto](https://github.com/IgorMichels/Brazilian_Soccer).\n",
    "\n",
    "\n",
    "### Plano do projeto:\n",
    "    \n",
    " + Coletar dados do futebol brasileiro via scraping\n",
    "     + ver [esse repositório](https://github.com/IgorMichels/Brazilian_Soccer/tree/main/Scrape_and_some_views/All%20data/Serie%20A)\n",
    " + Explorar e verificar a qualidade dos dados coletados\n",
    " + Selecionar, limpar e reformatar os dados que alimentarão o modelo\n",
    " + Construir e treinar o modelo de previsão de partidas\n",
    "     + elaborar modelo estimando forças para cada clube, utilizando os jogos anteriores para realizar o treinamento, com jogos mais recentes tendo peso maior\n",
    " + Validar e analisar as previsões do modelo\n",
    "     + para essa etapa a ideia é utilizar os dados do começo dos campeonatos de 2019 e 2020 (10 primeiras rodadas ou primeiro turno inteiro) para realizar o treinamento do modelo e utilizar os parâmetros obtidos para validar o modelo nesses anos\n",
    " + Inferir o campeão brasileiro com o modelo implementado\n",
    " + Revisar e fazer o deploy do projeto\n"
   ]
  },
  {
   "cell_type": "markdown",
   "metadata": {},
   "source": [
    "## II. Data Understanding  (apagar célula)\n",
    "\n",
    "+ Collect initial data:  \n",
    "+ Describe data:  \n",
    "+ Explore data:  \n",
    "+ Verify data quality:  "
   ]
  },
  {
   "cell_type": "markdown",
   "metadata": {},
   "source": [
    "# Entendimento dos Dados\n",
    "\n",
    "### Coleta Inicial dos Dados\n",
    "\n",
    "A coleta inicial dos dados já foi realizada em um projeto anterior, conforme seção acima. Dessa forma, realizamos apenas o download dos dados para esse projeto, considerando todos os jogos de todas as competições da CBF no período de 2013 a 2020.\n",
    "\n",
    "### Descrição dos Dados\n",
    "\n",
    "Os dados coletados estão no formato ```csv```, com a súmula crua e completa de cada partida, conforme pode ser visto abaixo."
   ]
  },
  {
   "cell_type": "code",
   "execution_count": 2,
   "metadata": {
    "scrolled": false
   },
   "outputs": [
    {
     "name": "stdout",
     "output_type": "stream",
     "text": [
      "['Campeonato:', 'Campeonato Brasileiro - Série A / 2020', 'Rodada:', '1', '', '']\n",
      "['Jogo:', 'Flamengo / RJ X Atlético / MG', '', '', '', '']\n",
      "['Data:', '09/08/2020', 'Horário:', '16:00', 'Estádio:', 'Jornalista Mário Filho / Rio de Janeiro']\n",
      "['Arbitragem', '']\n",
      "['Arbitro:', 'Raphael Claus (FIFA / SP)']\n",
      "['Arbitro Assistente 1:', 'Daniel Paulo Ziolli (AB / SP)']\n",
      "['Arbitro Assistente 2:', 'Anderson José de Moraes Coelho (AB / SP)']\n",
      "['Quarto Arbitro:', 'Rafael Martins de Sá (CD / RJ)']\n",
      "['Analista de Campo:', 'Edilson Soares da Silva (CBF / RJ)']\n",
      "['VAR:', 'Thiago Duarte Peixoto (AB / SP)']\n",
      "['AVAR1:', 'Vinicius Furlan (AB / SP)']\n",
      "['AVAR2:', 'Enderson Emanoel Turbiani da Silva (AB / SP)']\n",
      "['Observador de VAR:', 'Nilson de Souza Monção (CBF / RJ)']\n",
      "['Quality manager:', 'Mikael Silva de Araujo (CBF / RJ)']\n",
      "['Cronologia', '', '', '', '', '', '', '']\n",
      "['1o Tempo', '2o Tempo', '', '', '', '', '', '']\n",
      "['Entrada do mandante:', '15:50', 'Atraso:', 'Não Houve', 'Entrada do mandante:', '16:57', 'Atraso:', 'Não Houve']\n",
      "['Entrada do visitante:', '15:50', 'Atraso:', 'Não Houve', 'Entrada do visitante:', '16:58', 'Atraso:', 'Não Houve']\n",
      "['Início 1o Tempo:', '16:00', 'Atraso:', 'Não Houve', 'Início do 2o Tempo:', '17:01', 'Atraso:', 'Não Houve']\n",
      "['Término do 1o Tempo:', '16:47', 'Acréscimo:', '1 min', 'Término do 2o Tempo:', '17:56', 'Acréscimo:', '5 min']\n",
      "['Resultado do 1o Tempo: 0 X 1', 'Resultado Final: 0 X 1', '', '', '', '', '', '']\n",
      "['Relação de Jogadores', '', '', '', '', '', '', '', '', '', '', '']\n",
      "['Flamengo / RJ', '', 'Atlético / MG', '', '', '', '', '', '', '', '', '']\n",
      "['No', 'Apelido', 'Nome Completo', 'T/R', 'P/A', 'CBF', 'No', 'Apelido', 'Nome Completo', 'T/R', 'P/A', 'CBF']\n",
      "['1', 'Diego Alves', 'Diego Alves Carreira', '(g', 'P', '159238', '32', 'Rafael', 'Rafael Pires Monteiro', '(g', 'P', '180213']\n",
      "['3', 'Rodrigo Caio', 'Rodrigo Caio Coquett ...', 'T', 'P', '316645', '2', 'Guga', 'Claudio Rodrigues Gomes', 'T', 'P', '317445']\n",
      "['4', 'Leo Pereira', 'Leonardo Pereira', 'T', 'P', '310373', '3', 'Júnior Alo ...', 'Junior Osmar Ignacio...', 'T', 'P', '699115']\n",
      "['5', 'Willian Arão', 'Willian Souza Arao d ...', 'T', 'P', '293420', '13', 'Guilherme  ...', 'Guilherme Antonio Ar...', 'T', 'P', '339258']\n",
      "['7', 'Everton Ri ...', 'Everton Augusto de B ...', 'T', 'P', '177444', '16', 'Igor', 'Igor Rabello da Costa', 'T', 'P', '307840']\n",
      "['8', 'Gerson', 'Gerson Santos da Silva', 'T', 'P', '310733', '21', 'Alan Franco', 'Alan Steven Franco Palma', 'T', 'P', '699171']\n",
      "['9', 'Gabriel Ba ...', 'Gabriel Barbosa Almeida', 'T', 'P', '337830', '23', 'Nathan', 'Nathan Allan de Souza', 'T', 'P', '344314']\n",
      "['13', 'Rafinha', 'Marcio Rafael Ferrei ...', 'T', 'P', '161656', '29', 'Allan', 'Allan Rodrigues de Souza', 'T', 'P', '339266']\n",
      "['14', 'de Arrasca ...', 'Giorgian Daniel de A ...', 'T', 'P', '521990', '30', 'Gabriel Co ...', 'Gabriel Costa Franca', 'T', 'P', '318309']\n",
      "['16', 'Filipe Luís', 'Filipe Luis Kasmirski', 'T', 'P', '156447', '50', 'Marquinhos', 'Jose Marcos Costa Ma...', 'T', 'P', '504064']\n",
      "['27', 'Bruno', 'Bruno Henrique Pinto', 'T', 'P', '401839', '70', 'Savarino', 'Jefferson David Sava...', 'T', 'P', '694075']\n",
      "['37', 'Cesar', 'Cesar Bernardo Dutra', '(g', 'P', '307296', '1', 'Victor', 'Victor Leandro Bagy', '(g', 'P', '156659']\n",
      "['2', 'Gustavo', 'Gustavo Henrique Vernes', 'R', 'P', '186450', '4', 'Rever', 'Rever Humberto Alves...', 'R', 'P', '167509']\n",
      "['6', 'Rene', 'Rene Rodrigues Martins', 'R', 'P', '346636', '6', 'Fabio Santos', 'Fabio Santos Romeu', 'R', 'P', '162248']\n",
      "['11', 'Vitinho', 'Victor Vinicius Coel ...', 'R', 'P', '307245', '8', 'Jair', 'Jair Rodrigues Junior', 'R', 'P', '347809']\n",
      "['19', 'Michael', 'Michael Richard Delg ...', 'R', 'P', '534667', '11', 'Keno', 'Marcos da Silva Franca', 'R', 'P', '375634']\n",
      "['21', 'Pedro', 'Pedro Guilherme Abre ...', 'R', 'P', '303716', '20', 'Hyoran', 'Hyoran Kaue Dalmoro', 'R', 'P', '304434']\n",
      "['22', 'Batista', 'Gabriel Batista de Souza', 'R', 'P', '439475', '25', 'Mariano', 'Mariano Ferreira Filho', 'R', 'P', '170144']\n",
      "['26', 'Thuler', 'Matheus Soares Thuler', 'R', 'P', '372902', '26', 'Calebe', 'Calebe Gonçalves Fer...', 'R', 'P', '440499']\n",
      "['30', 'Joao', 'Joao Lucas de Almeid ...', 'R', 'P', '530965', '27', 'Leo Sena', 'Leonardo de Souza Sena', 'R', 'P', '352625']\n",
      "['32', 'Pedro Rocha', 'Pedro Rocha Neves', 'R', 'P', '379462', '34', 'Matheus Me ...', 'Matheus Mendes Werne...', 'R', 'P', '462152']\n",
      "['33', 'Thiago Maia', 'Thiago Maia Alencar', 'R', 'P', '384124', '38', 'Marrony', 'Marrony da Silva Lib...', 'R', 'P', '463599']\n",
      "['', '', '', '', '', '', '40', 'Bueno', 'Wellington Daniel Bueno', 'R', 'P', '346196']\n",
      "['T = Titular | R = Reserva | P = Profissional | A = Amador | (g) = Goleiro', '', '', '', '', '', '', '', '', '', '', '']\n",
      "['', '', 'Comissão Técnica']\n",
      "['', 'Flamengo / RJ', 'Atlético / MG']\n",
      "['Médico:', 'Marcio Alves Tannure - 08429156720', 'Técnico: Jorge Luis Sampaoli Moya - 24227124875']\n",
      "['Técnico:', 'Domenec Torrent Font - 06598122740', 'Auxiliar Técnico: Jorge Alberto Desio - 24228939880']\n",
      "['Auxiliar Técnico:', 'Jordi Gris Vila - 01184493979', 'Treinador De GoleirosD: iogo Meschine Alves - 098378']\n",
      "['Preparador Físico:', 'Roberto Oliveira Goncalves Do Carmo Junior - 0911673474T2reinador De GoleirosD: iogo Meschine Alves - 35936532810', '']\n",
      "['Fisioterapeuta:', 'Mario Galdi Peixoto - 08813588780', 'Preparador Físico: Pablo Candido Fernandez - 24228950850']\n",
      "['Treinador De GoleirosW: agner Paulino Miranda - 86888854787', '', 'Médico: Rodrigo Campos Pace Lasmar - 62828363600']\n",
      "['', '', 'Massagista: Alexandre William Pinto Coelho - 62471082653']\n",
      "['', '', '', '', '', 'Gols', '']\n",
      "['Tempo', '1T/2T', 'No', 'Tipo', 'Nome do Jogador', '', 'Equipe']\n",
      "['23:00', '1T', '16', 'CT', 'Filipe Luis Kasmirski', '', 'Flamengo/RJ']\n",
      "['Ocorrências / Observações\\nFoi respeitado 1 minuto de silêncio em homenagem as vítimas da covid - 19 pelo mundo;  sr. lorenzo lindner e ao sr. luiz buckton - ilustres\\nsócios do c.r.do flamengo .\\nMotivo de atraso no início e/ou reinício, e de acréscimos:\\nAcréscimo de 1 minuto no primeiro e 5 minutos no segundo tempo de jogo , devido substituições e atendimentos médico aos jogadores supostamente lesionados.\\nObservações Eventuais\\nForam respeitados os protocolos de entrada.\\nRelatório do Assistente\\nNada houve.\\nSubstituições\\nTempo1T/2TEquipeEntrouSaiu\\n43:001TAtlético/MG8 - Jair Rodrigues Junior30 - Gabriel Costa Franca\\n14:002TFlamengo/RJ21 - Pedro Guilherme Abreu dos ...14 - Giorgian Daniel de Arrasc ...\\n22:002TAtlético/MG40 - Wellington Daniel Bueno70 - Jefferson David Savarino  ...\\n22:002TAtlético/MG20 - Hyoran Kaue Dalmoro21 - Alan Steven Franco Palma\\n22:002TAtlético/MG38 - Marrony da Silva Liberato ...50 - Jose Marcos Costa Martins ...\\n27:002TFlamengo/RJ19 - Michael Richard Delgado d ...7 - Everton Augusto de Barros ...\\n33:002TAtlético/MG11 - Marcos da Silva Franca23 - Nathan Allan de Souza\\n34:002TFlamengo/RJ11 - Victor Vinicius Coelho Sa ...8 - Gerson Santos da Silva']\n",
      "['Observações Eventuais']\n",
      "['Foram respeitados os protocolos de entrada.']\n",
      "['Ocorrências / Observações\\nFoi respeitado 1 minuto de silêncio em homenagem as vítimas da covid - 19 pelo mundo;  sr. lorenzo lindner e ao sr. luiz buckton - ilustres\\nsócios do c.r.do flamengo .\\nMotivo de atraso no início e/ou reinício, e de acréscimos:\\nAcréscimo de 1 minuto no primeiro e 5 minutos no segundo tempo de jogo , devido substituições e atendimentos médico aos jogadores supostamente lesionados.\\nObservações Eventuais\\nForam respeitados os protocolos de entrada.\\nRelatório do Assistente\\nNada houve.\\nSubstituições\\nTempo1T/2TEquipeEntrouSaiu\\n43:001TAtlético/MG8 - Jair Rodrigues Junior30 - Gabriel Costa Franca\\n14:002TFlamengo/RJ21 - Pedro Guilherme Abreu dos ...14 - Giorgian Daniel de Arrasc ...\\n22:002TAtlético/MG40 - Wellington Daniel Bueno70 - Jefferson David Savarino  ...\\n22:002TAtlético/MG20 - Hyoran Kaue Dalmoro21 - Alan Steven Franco Palma\\n22:002TAtlético/MG38 - Marrony da Silva Liberato ...50 - Jose Marcos Costa Martins ...\\n27:002TFlamengo/RJ19 - Michael Richard Delgado d ...7 - Everton Augusto de Barros ...\\n33:002TAtlético/MG11 - Marcos da Silva Franca23 - Nathan Allan de Souza\\n34:002TFlamengo/RJ11 - Victor Vinicius Coelho Sa ...8 - Gerson Santos da Silva', '', '', '', '']\n",
      "['Substituições', '', '', '', '']\n",
      "['Tempo', '1T/2T', 'Equipe', 'Entrou', 'Saiu']\n",
      "['43:00', '1T', 'Atlético/MG', '8 - Jair Rodrigues Junior', '30 - Gabriel Costa Franca']\n",
      "['14:00', '2T', 'Flamengo/RJ', '21 - Pedro Guilherme Abreu dos ...', '14 - Giorgian Daniel de Arrasc ...']\n",
      "['22:00', '2T', 'Atlético/MG', '40 - Wellington Daniel Bueno', '70 - Jefferson David Savarino  ...']\n",
      "['22:00', '2T', 'Atlético/MG', '20 - Hyoran Kaue Dalmoro', '21 - Alan Steven Franco Palma']\n",
      "['22:00', '2T', 'Atlético/MG', '38 - Marrony da Silva Liberato ...', '50 - Jose Marcos Costa Martins ...']\n",
      "['27:00', '2T', 'Flamengo/RJ', '19 - Michael Richard Delgado d ...', '7 - Everton Augusto de Barros ...']\n",
      "['33:00', '2T', 'Atlético/MG', '11 - Marcos da Silva Franca', '23 - Nathan Allan de Souza']\n",
      "['34:00', '2T', 'Flamengo/RJ', '11 - Victor Vinicius Coelho Sa ...', '8 - Gerson Santos da Silva']\n",
      "['Ocorrências / Observações\\nFoi respeitado 1 minuto de silêncio em homenagem as vítimas da covid - 19 pelo mundo;  sr. lorenzo lindner e ao sr. luiz buckton - ilustres\\nsócios do c.r.do flamengo .\\nMotivo de atraso no início e/ou reinício, e de acréscimos:\\nAcréscimo de 1 minuto no primeiro e 5 minutos no segundo tempo de jogo , devido substituições e atendimentos médico aos jogadores supostamente lesionados.\\nObservações Eventuais\\nForam respeitados os protocolos de entrada.\\nRelatório do Assistente\\nNada houve.\\nSubstituições\\nTempo1T/2TEquipeEntrouSaiu\\n43:001TAtlético/MG8 - Jair Rodrigues Junior30 - Gabriel Costa Franca\\n14:002TFlamengo/RJ21 - Pedro Guilherme Abreu dos ...14 - Giorgian Daniel de Arrasc ...\\n22:002TAtlético/MG40 - Wellington Daniel Bueno70 - Jefferson David Savarino  ...\\n22:002TAtlético/MG20 - Hyoran Kaue Dalmoro21 - Alan Steven Franco Palma\\n22:002TAtlético/MG38 - Marrony da Silva Liberato ...50 - Jose Marcos Costa Martins ...\\n27:002TFlamengo/RJ19 - Michael Richard Delgado d ...7 - Everton Augusto de Barros ...\\n33:002TAtlético/MG11 - Marcos da Silva Franca23 - Nathan Allan de Souza\\n34:002TFlamengo/RJ11 - Victor Vinicius Coelho Sa ...8 - Gerson Santos da Silva']\n",
      "['Motivo de atraso no início e/ou reinício, e de acréscimos:']\n",
      "['Acréscimo de 1 minuto no primeiro e 5 minutos no segundo tempo de jogo , devido substituições e atendimentos médico aos jogadores supostamente lesionados.']\n",
      "['']\n",
      "['Ocorrências / Observações\\nFoi respeitado 1 minuto de silêncio em homenagem as vítimas da covid - 19 pelo mundo;  sr. lorenzo lindner e ao sr. luiz buckton - ilustres\\nsócios do c.r.do flamengo .\\nMotivo de atraso no início e/ou reinício, e de acréscimos:\\nAcréscimo de 1 minuto no primeiro e 5 minutos no segundo tempo de jogo , devido substituições e atendimentos médico aos jogadores supostamente lesionados.\\nObservações Eventuais\\nForam respeitados os protocolos de entrada.\\nRelatório do Assistente\\nNada houve.\\nSubstituições\\nTempo1T/2TEquipeEntrouSaiu\\n43:001TAtlético/MG8 - Jair Rodrigues Junior30 - Gabriel Costa Franca\\n14:002TFlamengo/RJ21 - Pedro Guilherme Abreu dos ...14 - Giorgian Daniel de Arrasc ...\\n22:002TAtlético/MG40 - Wellington Daniel Bueno70 - Jefferson David Savarino  ...\\n22:002TAtlético/MG20 - Hyoran Kaue Dalmoro21 - Alan Steven Franco Palma\\n22:002TAtlético/MG38 - Marrony da Silva Liberato ...50 - Jose Marcos Costa Martins ...\\n27:002TFlamengo/RJ19 - Michael Richard Delgado d ...7 - Everton Augusto de Barros ...\\n33:002TAtlético/MG11 - Marcos da Silva Franca23 - Nathan Allan de Souza\\n34:002TFlamengo/RJ11 - Victor Vinicius Coelho Sa ...8 - Gerson Santos da Silva']\n",
      "['Ocorrências / Observações']\n",
      "['Foi respeitado 1 minuto de silêncio em homenagem as vítimas da covid - 19 pelo mundo;  sr. lorenzo lindner e ao sr. luiz buckton - ilustres']\n",
      "['sócios do c.r.do flamengo .']\n",
      "['Ocorrências / Observações\\nFoi respeitado 1 minuto de silêncio em homenagem as vítimas da covid - 19 pelo mundo;  sr. lorenzo lindner e ao sr. luiz buckton - ilustres\\nsócios do c.r.do flamengo .\\nMotivo de atraso no início e/ou reinício, e de acréscimos:\\nAcréscimo de 1 minuto no primeiro e 5 minutos no segundo tempo de jogo , devido substituições e atendimentos médico aos jogadores supostamente lesionados.\\nObservações Eventuais\\nForam respeitados os protocolos de entrada.\\nRelatório do Assistente\\nNada houve.\\nSubstituições\\nTempo1T/2TEquipeEntrouSaiu\\n43:001TAtlético/MG8 - Jair Rodrigues Junior30 - Gabriel Costa Franca\\n14:002TFlamengo/RJ21 - Pedro Guilherme Abreu dos ...14 - Giorgian Daniel de Arrasc ...\\n22:002TAtlético/MG40 - Wellington Daniel Bueno70 - Jefferson David Savarino  ...\\n22:002TAtlético/MG20 - Hyoran Kaue Dalmoro21 - Alan Steven Franco Palma\\n22:002TAtlético/MG38 - Marrony da Silva Liberato ...50 - Jose Marcos Costa Martins ...\\n27:002TFlamengo/RJ19 - Michael Richard Delgado d ...7 - Everton Augusto de Barros ...\\n33:002TAtlético/MG11 - Marcos da Silva Franca23 - Nathan Allan de Souza\\n34:002TFlamengo/RJ11 - Victor Vinicius Coelho Sa ...8 - Gerson Santos da Silva']\n",
      "['Relatório do Assistente']\n",
      "['Nada houve.']\n",
      "['Ocorrências / Observações\\nFoi respeitado 1 minuto de silêncio em homenagem as vítimas da covid - 19 pelo mundo;  sr. lorenzo lindner e ao sr. luiz buckton - ilustres\\nsócios do c.r.do flamengo .\\nMotivo de atraso no início e/ou reinício, e de acréscimos:\\nAcréscimo de 1 minuto no primeiro e 5 minutos no segundo tempo de jogo , devido substituições e atendimentos médico aos jogadores supostamente lesionados.\\nObservações Eventuais\\nForam respeitados os protocolos de entrada.\\nRelatório do Assistente\\nNada houve.\\nSubstituições\\nTempo1T/2TEquipeEntrouSaiu\\n43:001TAtlético/MG8 - Jair Rodrigues Junior30 - Gabriel Costa Franca\\n14:002TFlamengo/RJ21 - Pedro Guilherme Abreu dos ...14 - Giorgian Daniel de Arrasc ...\\n22:002TAtlético/MG40 - Wellington Daniel Bueno70 - Jefferson David Savarino  ...\\n22:002TAtlético/MG20 - Hyoran Kaue Dalmoro21 - Alan Steven Franco Palma\\n22:002TAtlético/MG38 - Marrony da Silva Liberato ...50 - Jose Marcos Costa Martins ...\\n27:002TFlamengo/RJ19 - Michael Richard Delgado d ...7 - Everton Augusto de Barros ...\\n33:002TAtlético/MG11 - Marcos da Silva Franca23 - Nathan Allan de Souza\\n34:002TFlamengo/RJ11 - Victor Vinicius Coelho Sa ...8 - Gerson Santos da Silva', '', '', '', '']\n",
      "['Ocorrências / Observações', '', '', '', '']\n",
      "['Foi respeitado 1 minuto de silêncio em homenagem as vítimas da covid - 19 pelo mundo;  sr. lorenzo lindner e ao sr. luiz buckton - ilustres', '', '', '', '']\n",
      "['sócios do c.r.do flamengo .', '', '', '', '']\n",
      "['Motivo de atraso no início e/ou reinício, e de acréscimos:', '', '', '', '']\n",
      "['Acréscimo de 1 minuto no primeiro e 5 minutos no segundo tempo de jogo , devido substituições e atendimentos médico aos jogadores supostamente lesionados.', '', '', '', '']\n",
      "['', '', '', '', '']\n",
      "['Observações Eventuais', '', '', '', '']\n",
      "['Foram respeitados os protocolos de entrada.', '', '', '', '']\n",
      "['Relatório do Assistente', '', '', '', '']\n",
      "['Nada houve.', '', '', '', '']\n",
      "['Substituições', '', '', '', '']\n",
      "['Tempo', '1T/2T', 'Equipe', 'Entrou', 'Saiu']\n",
      "['43:00', '1T', 'Atlético/MG', '8 - Jair Rodrigues Junior', '30 - Gabriel Costa Franca']\n",
      "['14:00', '2T', 'Flamengo/RJ', '21 - Pedro Guilherme Abreu dos ...', '14 - Giorgian Daniel de Arrasc ...']\n",
      "['22:00', '2T', 'Atlético/MG', '40 - Wellington Daniel Bueno', '70 - Jefferson David Savarino  ...']\n",
      "['22:00', '2T', 'Atlético/MG', '20 - Hyoran Kaue Dalmoro', '21 - Alan Steven Franco Palma']\n",
      "['22:00', '2T', 'Atlético/MG', '38 - Marrony da Silva Liberato ...', '50 - Jose Marcos Costa Martins ...']\n",
      "['27:00', '2T', 'Flamengo/RJ', '19 - Michael Richard Delgado d ...', '7 - Everton Augusto de Barros ...']\n",
      "['33:00', '2T', 'Atlético/MG', '11 - Marcos da Silva Franca', '23 - Nathan Allan de Souza']\n",
      "['34:00', '2T', 'Flamengo/RJ', '11 - Victor Vinicius Coelho Sa ...', '8 - Gerson Santos da Silva']\n"
     ]
    }
   ],
   "source": [
    "game = 'Data/Serie A/2020/Game 001.csv' # Flamengo e Atlético-MG pela primeira rodada de 2020\n",
    "with open(game) as file:\n",
    "    reader = csv.reader(file, delimiter = ',')\n",
    "    for row in reader:\n",
    "        print(row)"
   ]
  },
  {
   "cell_type": "markdown",
   "metadata": {},
   "source": [
    "Os dados da súmula foram retirados de um ```PDF``` e convertidos para ```csv``` por meio da biblioteca ```tabula```.\n",
    "\n",
    "### Exploração dos Dados\n",
    "\n",
    "Essa etapa pensamos em adiar um pouco para realizar após a limpeza dos dados, uma vez que os mesmos precisam ser tratados. Mas uma análise rápida dos dados nos mostra que todos os dados de nosso interesse se encontram no ínicio da súmula, antes da relação de jogadores.\n",
    "\n",
    "Podemos ver que até esse ponto já pudemos coletar informações como os clubes que estão se enfrentando, a data da partida e o resultado final do jogo:"
   ]
  },
  {
   "cell_type": "code",
   "execution_count": 3,
   "metadata": {},
   "outputs": [
    {
     "name": "stdout",
     "output_type": "stream",
     "text": [
      "['Campeonato:', 'Campeonato Brasileiro - Série A / 2020', 'Rodada:', '1', '', '']\n",
      "['Jogo:', 'Flamengo / RJ X Atlético / MG', '', '', '', '']\n",
      "['Data:', '09/08/2020', 'Horário:', '16:00', 'Estádio:', 'Jornalista Mário Filho / Rio de Janeiro']\n",
      "['Arbitragem', '']\n",
      "['Arbitro:', 'Raphael Claus (FIFA / SP)']\n",
      "['Arbitro Assistente 1:', 'Daniel Paulo Ziolli (AB / SP)']\n",
      "['Arbitro Assistente 2:', 'Anderson José de Moraes Coelho (AB / SP)']\n",
      "['Quarto Arbitro:', 'Rafael Martins de Sá (CD / RJ)']\n",
      "['Analista de Campo:', 'Edilson Soares da Silva (CBF / RJ)']\n",
      "['VAR:', 'Thiago Duarte Peixoto (AB / SP)']\n",
      "['AVAR1:', 'Vinicius Furlan (AB / SP)']\n",
      "['AVAR2:', 'Enderson Emanoel Turbiani da Silva (AB / SP)']\n",
      "['Observador de VAR:', 'Nilson de Souza Monção (CBF / RJ)']\n",
      "['Quality manager:', 'Mikael Silva de Araujo (CBF / RJ)']\n",
      "['Cronologia', '', '', '', '', '', '', '']\n",
      "['1o Tempo', '2o Tempo', '', '', '', '', '', '']\n",
      "['Entrada do mandante:', '15:50', 'Atraso:', 'Não Houve', 'Entrada do mandante:', '16:57', 'Atraso:', 'Não Houve']\n",
      "['Entrada do visitante:', '15:50', 'Atraso:', 'Não Houve', 'Entrada do visitante:', '16:58', 'Atraso:', 'Não Houve']\n",
      "['Início 1o Tempo:', '16:00', 'Atraso:', 'Não Houve', 'Início do 2o Tempo:', '17:01', 'Atraso:', 'Não Houve']\n",
      "['Término do 1o Tempo:', '16:47', 'Acréscimo:', '1 min', 'Término do 2o Tempo:', '17:56', 'Acréscimo:', '5 min']\n",
      "['Resultado do 1o Tempo: 0 X 1', 'Resultado Final: 0 X 1', '', '', '', '', '', '']\n"
     ]
    }
   ],
   "source": [
    "with open(game) as file:\n",
    "    reader = csv.reader(file, delimiter = ',')\n",
    "    for row in reader:\n",
    "        if 'Relação de Jogadores' in row:\n",
    "            break\n",
    "            \n",
    "        print(row)"
   ]
  },
  {
   "cell_type": "markdown",
   "metadata": {},
   "source": [
    "### Verificando a Qualidade dos Dados\n",
    "\n",
    "Essa etapa acaba sendo rápida nesse caso, pois os dados foram obtidos das súmulas das partidas que estão no site da CBF, ou seja, são dados oficiais de cada jogo e que se encontram no site oficial do organizador do evento. Por fim, os dados coletados atendem nossa demanda, então podemos dizer que a qualidade está comprovada."
   ]
  },
  {
   "cell_type": "markdown",
   "metadata": {},
   "source": [
    "## III. Data Preparation (apagar célula)\n",
    "\n",
    "+ Select data:   \n",
    "+ Clean data:   \n",
    "+ Construct data/transform data/feature engineering:   \n",
    "+ Integrate data:   \n",
    "+ (Re) Format data:   "
   ]
  },
  {
   "cell_type": "markdown",
   "metadata": {},
   "source": [
    "# Preparação dos Dados\n",
    "\n",
    "### Seleção e Limpeza dos Dados\n",
    "\n",
    "Conforme citado anteriormente, tomamos os dados de todos os jogos de todas as competições da CBF de 2013 a 2020. Como estamos interessados na modelagem da primeira divisão, nessa etapa iremos fazer a seleção dos jogos entre os clubes que já estiveram na Série A, em qualquer que seja a competição.\n",
    "\n",
    "Pensando em otimizar o processo, decidimos unificar a etapa de seleção e limpeza dos dados. Dessa forma, enquanto passamos por cada jogo, já iremos ver se os clubes que estão se enfrentando estiveram na Série A em algum desses anos. Se sim, então a gente guarda os dados dessa partida, caso contrário essa partida não será de grande valia para nossa análise, então descartamos a mesma.\n",
    "\n",
    "**OBS:** A ideia de pegar todas as competições se dá pelo fato de que, na Série A, ocorre, a cada ano, a renovação de 20% dos clubes (4 são rebaixados e 4 são promovidos), então para termos dados prévios desses clubes que foram promovidos uma opção é a de utilizar os jogos de divisões inferiores."
   ]
  },
  {
   "cell_type": "code",
   "execution_count": 4,
   "metadata": {},
   "outputs": [
    {
     "name": "stdout",
     "output_type": "stream",
     "text": [
      "No score found at Data/Serie A/2016/Game 378.csv, returned 0 x 0\n",
      "UnicodeDecodeError at Data/Copa do Brasil/2016/Game 122.csv\n"
     ]
    }
   ],
   "source": [
    "# our code here\n",
    "save = []\n",
    "competitions = sorted(glob('Data/S*')) + glob('Data/C*') # garantir que a Série A seja a primeira da lista\n",
    "competitions1 = [competitions[0]] # only Serie A\n",
    "competitions2 = competitions[1:]\n",
    "\n",
    "clubs = []\n",
    "for competition in competitions1:\n",
    "    years = sorted(glob(competition + '/*'))\n",
    "    for year in years:\n",
    "        games = sorted(glob(year + '/Game *'))\n",
    "        for game in games:\n",
    "            save.append([game])\n",
    "            try:\n",
    "                teams = find_teams(game)\n",
    "                date = find_date(game)\n",
    "                score = find_score(game)\n",
    "                for team in teams:\n",
    "                    save[-1].append(team)\n",
    "                    if team not in clubs:\n",
    "                        clubs.append(team)\n",
    "\n",
    "                save[-1].append(score)\n",
    "                for info in date:\n",
    "                    save[-1].append(info)\n",
    "\n",
    "            except UnicodeDecodeError:\n",
    "                print('UnicodeDecodeError at ' + game)\n",
    "                save.pop()\n",
    "                \n",
    "for competition in competitions2:\n",
    "    years = sorted(glob(competition + '/*'))\n",
    "    for year in years:\n",
    "        games = sorted(glob(year + '/Game *'))\n",
    "        for game in games:\n",
    "            save.append([game])\n",
    "            try:\n",
    "                teams = find_teams(game)\n",
    "                if len(teams) == 2 and teams[0] in clubs and teams[1] in clubs:\n",
    "                    date = find_date(game)\n",
    "                    score = find_score(game)\n",
    "                    for team in teams:\n",
    "                        save[-1].append(team)\n",
    "                        if team not in clubs:\n",
    "                            clubs.append(team)\n",
    "\n",
    "                    save[-1].append(score)\n",
    "                    for info in date:\n",
    "                        save[-1].append(info)\n",
    "                else:\n",
    "                    save.pop()\n",
    "\n",
    "            except UnicodeDecodeError:\n",
    "                # CdB - 2016 - game 122 is Fluminense vs Ypiranga\n",
    "                print('UnicodeDecodeError at ' + game)\n",
    "                save.pop()"
   ]
  },
  {
   "cell_type": "code",
   "execution_count": 5,
   "metadata": {},
   "outputs": [
    {
     "name": "stdout",
     "output_type": "stream",
     "text": [
      "['Data/Copa do Brasil/2021/Game 107.csv', 'Bahia / BA', 'Atlético / MG', '2 x 1', '10', '2021', '04/08/2021']\n",
      "['Data/Copa do Brasil/2021/Game 109.csv', 'Athlético / PR', 'Santos / SP', '1 x 0', '10', '2021', '25/08/2021']\n",
      "['Data/Copa do Brasil/2021/Game 110.csv', 'Grêmio / RS', 'Flamengo / RJ', '0 x 4', '11', '2021', '25/08/2021']\n",
      "['Data/Copa do Brasil/2021/Game 111.csv', 'São Paulo / SP', 'Fortaleza / CE', '2 x 2', '11', '2021', '25/08/2021']\n",
      "['Data/Copa do Brasil/2021/Game 112.csv', 'Fluminense / RJ', 'Atlético / MG', '1 x 2', '11', '2021', '26/08/2021']\n"
     ]
    }
   ],
   "source": [
    "for game in save[-5:]:\n",
    "    print(game)"
   ]
  },
  {
   "cell_type": "code",
   "execution_count": 6,
   "metadata": {},
   "outputs": [],
   "source": [
    "with open('data.csv', 'w') as file:\n",
    "    writer = csv.writer(file)\n",
    "    writer.writerow(['File', 'Team 1', 'Team 2', 'Score', 'Round', 'Year', 'Date'])\n",
    "    for game in save:\n",
    "        writer.writerow(game)"
   ]
  },
  {
   "cell_type": "markdown",
   "metadata": {},
   "source": [
    "Tendo realizado essa etapa, obtemos um arquivo ```csv``` contendo apenas os dados dos jogos de nosso interesse.\n",
    "\n",
    "### Transformação dos Dados\n",
    "\n",
    "escrever...\n",
    "\n",
    "### Integração dos Dados\n",
    "\n",
    "escrever...\n",
    "\n",
    "### Formatação dos Dados\n",
    "\n",
    "escrever..."
   ]
  },
  {
   "cell_type": "markdown",
   "metadata": {},
   "source": [
    "## IV. Modeling\n",
    "\n",
    "+ Select modeling techniques: \n",
    "+ Generate test design: \n",
    "+ Build model: \n",
    "+ Assess model:  "
   ]
  },
  {
   "cell_type": "code",
   "execution_count": null,
   "metadata": {},
   "outputs": [],
   "source": []
  },
  {
   "cell_type": "markdown",
   "metadata": {},
   "source": [
    "## V. Evaluation                    \n",
    "\n",
    "+ Evaluate results: \n",
    "+ Review process: \n",
    "+ Determine next steps: "
   ]
  },
  {
   "cell_type": "code",
   "execution_count": null,
   "metadata": {},
   "outputs": [],
   "source": []
  },
  {
   "cell_type": "markdown",
   "metadata": {},
   "source": [
    "## VI. Deployment\n",
    "\n",
    "+ Plan deployment: \n",
    "+ Plan monitoring and maintenance: \n",
    "+ Produce final report: \n",
    "+ Review project: "
   ]
  },
  {
   "cell_type": "code",
   "execution_count": null,
   "metadata": {},
   "outputs": [],
   "source": []
  }
 ],
 "metadata": {
  "kernelspec": {
   "display_name": "Python 3 (ipykernel)",
   "language": "python",
   "name": "python3"
  },
  "language_info": {
   "codemirror_mode": {
    "name": "ipython",
    "version": 3
   },
   "file_extension": ".py",
   "mimetype": "text/x-python",
   "name": "python",
   "nbconvert_exporter": "python",
   "pygments_lexer": "ipython3",
   "version": "3.8.10"
  }
 },
 "nbformat": 4,
 "nbformat_minor": 4
}
